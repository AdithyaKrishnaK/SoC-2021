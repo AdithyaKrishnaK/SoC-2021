{
  "nbformat": 4,
  "nbformat_minor": 0,
  "metadata": {
    "colab": {
      "name": "DCGAN.ipynb",
      "provenance": []
    },
    "kernelspec": {
      "name": "python3",
      "display_name": "Python 3"
    },
    "language_info": {
      "name": "python"
    },
    "accelerator": "GPU"
  },
  "cells": [
    {
      "cell_type": "code",
      "metadata": {
        "id": "wMhUpDvbceNB"
      },
      "source": [
        "import torch\n",
        "import torch.nn as nn\n",
        "import torch.nn.functional as F\n",
        "import matplotlib.pyplot as plt\n",
        "import numpy as np\n",
        "import torch.optim as optim\n",
        "import torchvision\n",
        "import torchvision.transforms as transforms\n",
        "import torchvision.datasets as datasets\n",
        "from torch.utils.data import DataLoader\n",
        "from torch.utils.tensorboard import SummaryWriter"
      ],
      "execution_count": 1,
      "outputs": []
    },
    {
      "cell_type": "code",
      "metadata": {
        "id": "uczt5YicdGIo"
      },
      "source": [
        "class Generator(nn.Module):\n",
        "    def __init__(self, channels_noise, channels_img, features_g):\n",
        "        super(Generator, self).__init__()\n",
        "        self.net = nn.Sequential(\n",
        "            self._block(channels_noise, features_g * 16, 4, 1, 0),  \n",
        "            self._block(features_g * 16, features_g * 8, 4, 2, 1), \n",
        "            self._block(features_g * 8, features_g * 4, 4, 2, 1), \n",
        "            self._block(features_g * 4, features_g * 2, 4, 2, 1),  \n",
        "            nn.ConvTranspose2d(\n",
        "                features_g * 2, channels_img, kernel_size=4, stride=2, padding=1\n",
        "            ),\n",
        "            nn.Tanh(),\n",
        "        )\n",
        "\n",
        "    def _block(self, in_channels, out_channels, kernel_size, stride, padding):\n",
        "        return nn.Sequential(\n",
        "            nn.ConvTranspose2d(\n",
        "                in_channels,\n",
        "                out_channels,\n",
        "                kernel_size,\n",
        "                stride,\n",
        "                padding,\n",
        "                bias=False,\n",
        "            ),\n",
        "            nn.ReLU(),\n",
        "        )\n",
        "\n",
        "    def forward(self, x):\n",
        "        return self.net(x)\n",
        "\n"
      ],
      "execution_count": 2,
      "outputs": []
    },
    {
      "cell_type": "code",
      "metadata": {
        "id": "ZGzLIhrsgzat"
      },
      "source": [
        "class Discriminator(nn.Module):\n",
        "  def __init__(self,channel_img, features_d):\n",
        "    super(Discriminator,self).__init__()\n",
        "    self.main = nn.Sequential(\n",
        "        nn.Conv2d(channel_img, features_d,kernel_size=4,stride=2,padding=1),\n",
        "        nn.LeakyReLU(0.2),\n",
        "        nn.Conv2d(features_d, features_d*2,kernel_size=4,stride=2,padding=1,bias=False),\n",
        "        nn.BatchNorm2d(features_d*2),\n",
        "        nn.LeakyReLU(0.2),\n",
        "        nn.Conv2d(features_d*2, features_d*4,kernel_size=4,stride=2,padding=1,bias=False),\n",
        "        nn.BatchNorm2d(features_d*4),\n",
        "        nn.LeakyReLU(0.2),\n",
        "        nn.Conv2d(features_d*4, features_d*8,kernel_size=4,stride=2,padding=1,bias=False),\n",
        "        nn.BatchNorm2d(features_d*8),\n",
        "        nn.LeakyReLU(0.2),\n",
        "        nn.Conv2d(features_d*8,1,kernel_size=4,stride=2,padding=0),\n",
        "        nn.Sigmoid(),\n",
        "    )\n",
        "  \n",
        "  def forward(self,x):\n",
        "    return self.main(x)\n"
      ],
      "execution_count": 3,
      "outputs": []
    },
    {
      "cell_type": "code",
      "metadata": {
        "id": "aIPzlBGWFU2y"
      },
      "source": [
        "def initialize_weights(model):\n",
        "    for m in model.modules():\n",
        "        if isinstance(m, (nn.Conv2d, nn.ConvTranspose2d, nn.BatchNorm2d)):\n",
        "            nn.init.normal_(m.weight.data, 0.0, 0.02)"
      ],
      "execution_count": 4,
      "outputs": []
    },
    {
      "cell_type": "code",
      "metadata": {
        "id": "xk5shn-lJ6Ny",
        "colab": {
          "base_uri": "https://localhost:8080/"
        },
        "outputId": "67cca6d5-6fac-41d4-8b6e-977b74e933f4"
      },
      "source": [
        "device = torch.device(\"cuda\" if torch.cuda.is_available() else \"cpu\")\n",
        "LEARNING_RATE = 2e-4 \n",
        "BATCH_SIZE = 128\n",
        "IMAGE_SIZE = 64\n",
        "CHANNELS_IMG = 1\n",
        "NOISE_DIM = 100\n",
        "NUM_EPOCHS = 5\n",
        "FEATURES_DISC = 64\n",
        "FEATURES_GEN = 64\n",
        "GEN_LOSS = []\n",
        "DISC_LOSS = []\n",
        "\n",
        "transforms = transforms.Compose(\n",
        "    [\n",
        "        transforms.Resize(IMAGE_SIZE),\n",
        "        transforms.ToTensor(),\n",
        "        transforms.Normalize(\n",
        "            [0.5 for _ in range(CHANNELS_IMG)], [0.5 for _ in range(CHANNELS_IMG)]\n",
        "        ),\n",
        "    ]\n",
        ")\n",
        "\n",
        "dataset = datasets.MNIST(root=\"dataset/\", train=True, transform=transforms,\n",
        "                       download=True)\n",
        "\n",
        "dataloader = DataLoader(dataset, batch_size=BATCH_SIZE, shuffle=True)\n",
        "gen = Generator(NOISE_DIM, CHANNELS_IMG, FEATURES_GEN).to(device)\n",
        "disc = Discriminator(CHANNELS_IMG, FEATURES_DISC).to(device)\n",
        "initialize_weights(gen)\n",
        "initialize_weights(disc)\n",
        "\n",
        "opt_gen = optim.Adam(gen.parameters(), lr=LEARNING_RATE, betas=(0.5, 0.999))\n",
        "opt_disc = optim.Adam(disc.parameters(), lr=LEARNING_RATE, betas=(0.5, 0.999))\n",
        "criterion = nn.BCELoss()\n",
        "\n",
        "fixed_noise = torch.randn(32, NOISE_DIM, 1, 1).to(device)\n",
        "writer_real = SummaryWriter(f\"logs/real\")\n",
        "writer_fake = SummaryWriter(f\"logs/fake\")\n",
        "step = 0\n",
        "\n",
        "gen.train()\n",
        "disc.train()"
      ],
      "execution_count": 5,
      "outputs": [
        {
          "output_type": "stream",
          "text": [
            "/usr/local/lib/python3.7/dist-packages/torchvision/datasets/mnist.py:498: UserWarning: The given NumPy array is not writeable, and PyTorch does not support non-writeable tensors. This means you can write to the underlying (supposedly non-writeable) NumPy array using the tensor. You may want to copy the array to protect its data or make it writeable before converting it to a tensor. This type of warning will be suppressed for the rest of this program. (Triggered internally at  /pytorch/torch/csrc/utils/tensor_numpy.cpp:180.)\n",
            "  return torch.from_numpy(parsed.astype(m[2], copy=False)).view(*s)\n"
          ],
          "name": "stderr"
        },
        {
          "output_type": "execute_result",
          "data": {
            "text/plain": [
              "Discriminator(\n",
              "  (main): Sequential(\n",
              "    (0): Conv2d(1, 64, kernel_size=(4, 4), stride=(2, 2), padding=(1, 1))\n",
              "    (1): LeakyReLU(negative_slope=0.2)\n",
              "    (2): Conv2d(64, 128, kernel_size=(4, 4), stride=(2, 2), padding=(1, 1), bias=False)\n",
              "    (3): BatchNorm2d(128, eps=1e-05, momentum=0.1, affine=True, track_running_stats=True)\n",
              "    (4): LeakyReLU(negative_slope=0.2)\n",
              "    (5): Conv2d(128, 256, kernel_size=(4, 4), stride=(2, 2), padding=(1, 1), bias=False)\n",
              "    (6): BatchNorm2d(256, eps=1e-05, momentum=0.1, affine=True, track_running_stats=True)\n",
              "    (7): LeakyReLU(negative_slope=0.2)\n",
              "    (8): Conv2d(256, 512, kernel_size=(4, 4), stride=(2, 2), padding=(1, 1), bias=False)\n",
              "    (9): BatchNorm2d(512, eps=1e-05, momentum=0.1, affine=True, track_running_stats=True)\n",
              "    (10): LeakyReLU(negative_slope=0.2)\n",
              "    (11): Conv2d(512, 1, kernel_size=(4, 4), stride=(2, 2))\n",
              "    (12): Sigmoid()\n",
              "  )\n",
              ")"
            ]
          },
          "metadata": {
            "tags": []
          },
          "execution_count": 5
        }
      ]
    },
    {
      "cell_type": "code",
      "metadata": {
        "colab": {
          "base_uri": "https://localhost:8080/"
        },
        "id": "5QyiKPwhNNsh",
        "outputId": "dad7a8ee-1f3e-4826-c6da-b74ea765827e"
      },
      "source": [
        "for epoch in range(NUM_EPOCHS):\n",
        "    \n",
        "    for batch_idx, (real, _) in enumerate(dataloader):\n",
        "        real = real.to(device)\n",
        "        noise = torch.randn(BATCH_SIZE, NOISE_DIM, 1, 1).to(device)\n",
        "        fake = gen(noise)\n",
        "\n",
        "        \n",
        "        disc_real = disc(real).reshape(-1)\n",
        "        loss_disc_real = criterion(disc_real, torch.ones_like(disc_real))\n",
        "        disc_fake = disc(fake.detach()).reshape(-1)\n",
        "        loss_disc_fake = criterion(disc_fake, torch.zeros_like(disc_fake))\n",
        "        loss_disc = (loss_disc_real + loss_disc_fake) / 2\n",
        "        disc.zero_grad()\n",
        "        loss_disc.backward()\n",
        "        opt_disc.step()\n",
        "\n",
        "        \n",
        "        output = disc(fake).reshape(-1)\n",
        "        loss_gen = criterion(output, torch.ones_like(output))\n",
        "        gen.zero_grad()\n",
        "        loss_gen.backward()\n",
        "        opt_gen.step()\n",
        "\n",
        "        \n",
        "        if batch_idx % 100 == 0:\n",
        "            print(\n",
        "                f\"Epoch [{epoch+1}/{NUM_EPOCHS}] Batch {batch_idx}/{len(dataloader)} \\\n",
        "                  Loss D: {loss_disc:.4f}, loss G: {loss_gen:.4f}\"\n",
        "            )\n",
        "            GEN_LOSS.append(loss_gen)\n",
        "            DISC_LOSS.append(loss_disc)\n",
        "\n",
        "            with torch.no_grad():\n",
        "                fake = gen(fixed_noise)\n",
        "                \n",
        "                img_grid_real = torchvision.utils.make_grid(\n",
        "                    real[:32], normalize=True\n",
        "                )\n",
        "                img_grid_fake = torchvision.utils.make_grid(\n",
        "                    fake[:32], normalize=True\n",
        "                )\n",
        "\n",
        "                writer_real.add_image(\"Real\", img_grid_real, global_step=step)\n",
        "                writer_fake.add_image(\"Fake\", img_grid_fake, global_step=step)\n",
        "\n",
        "            step += 1"
      ],
      "execution_count": 6,
      "outputs": [
        {
          "output_type": "stream",
          "text": [
            "Epoch [1/5] Batch 0/469                   Loss D: 0.6878, loss G: 0.8018\n",
            "Epoch [1/5] Batch 100/469                   Loss D: 0.3497, loss G: 2.2482\n",
            "Epoch [1/5] Batch 200/469                   Loss D: 0.6622, loss G: 1.1674\n",
            "Epoch [1/5] Batch 300/469                   Loss D: 0.4767, loss G: 2.1761\n",
            "Epoch [1/5] Batch 400/469                   Loss D: 0.5395, loss G: 2.3083\n",
            "Epoch [2/5] Batch 0/469                   Loss D: 0.6949, loss G: 1.0564\n",
            "Epoch [2/5] Batch 100/469                   Loss D: 0.6653, loss G: 1.2474\n",
            "Epoch [2/5] Batch 200/469                   Loss D: 0.4528, loss G: 1.2296\n",
            "Epoch [2/5] Batch 300/469                   Loss D: 0.7087, loss G: 1.8755\n",
            "Epoch [2/5] Batch 400/469                   Loss D: 0.4846, loss G: 0.7969\n",
            "Epoch [3/5] Batch 0/469                   Loss D: 0.4733, loss G: 1.1388\n",
            "Epoch [3/5] Batch 100/469                   Loss D: 0.2451, loss G: 2.6154\n",
            "Epoch [3/5] Batch 200/469                   Loss D: 0.2879, loss G: 1.6599\n",
            "Epoch [3/5] Batch 300/469                   Loss D: 0.2039, loss G: 2.6374\n",
            "Epoch [3/5] Batch 400/469                   Loss D: 0.2055, loss G: 1.5484\n",
            "Epoch [4/5] Batch 0/469                   Loss D: 0.2006, loss G: 2.2888\n",
            "Epoch [4/5] Batch 100/469                   Loss D: 0.1461, loss G: 2.5239\n",
            "Epoch [4/5] Batch 200/469                   Loss D: 0.6490, loss G: 1.5300\n",
            "Epoch [4/5] Batch 300/469                   Loss D: 0.1237, loss G: 3.0318\n",
            "Epoch [4/5] Batch 400/469                   Loss D: 0.1257, loss G: 3.4569\n",
            "Epoch [5/5] Batch 0/469                   Loss D: 0.1906, loss G: 2.6121\n",
            "Epoch [5/5] Batch 100/469                   Loss D: 0.1708, loss G: 2.2150\n",
            "Epoch [5/5] Batch 200/469                   Loss D: 0.1029, loss G: 3.3296\n",
            "Epoch [5/5] Batch 300/469                   Loss D: 0.3682, loss G: 1.2187\n",
            "Epoch [5/5] Batch 400/469                   Loss D: 0.1490, loss G: 2.9615\n"
          ],
          "name": "stdout"
        }
      ]
    },
    {
      "cell_type": "code",
      "metadata": {
        "colab": {
          "base_uri": "https://localhost:8080/",
          "height": 265
        },
        "id": "cTSrEnb3CKlA",
        "outputId": "73f3105e-6798-4ec1-b3f8-cc19d897a825"
      },
      "source": [
        "plt.plot(range(len(GEN_LOSS)),GEN_LOSS,label=\"G-Loss\")\n",
        "plt.plot(range(len(DISC_LOSS)),DISC_LOSS,label=\"D-Loss\")\n",
        "plt.legend()\n",
        "plt.show()\n"
      ],
      "execution_count": 7,
      "outputs": [
        {
          "output_type": "display_data",
          "data": {
            "image/png": "[encoded data removed]",
            "text/plain": [
              "<Figure size 432x288 with 1 Axes>"
            ]
          },
          "metadata": {
            "tags": [],
            "needs_background": "light"
          }
        }
      ]
    },
    {
      "cell_type": "code",
      "metadata": {
        "colab": {
          "base_uri": "https://localhost:8080/",
          "height": 770
        },
        "id": "LXGXLoOF41iT",
        "outputId": "cb815c88-0f0b-4bf4-d9e8-04d30f6e915a"
      },
      "source": [
        "noise = torch.randn((BATCH_SIZE,NOISE_DIM,1,1)).to(device)\n",
        "img = gen(noise)\n",
        "img1 = img.cpu()\n",
        "del img\n",
        "img1 = img1 / 2 + 0.5     # unnormalize\n",
        "npimage = img1.detach().numpy()\n",
        "npimg = npimage[1,0,:,:]\n",
        "plt.imshow(npimg, cmap='Greys')\n",
        "plt.show()\n",
        "npimg = npimage[10,0,:,:]\n",
        "plt.imshow(npimg, cmap='Greys')\n",
        "plt.show()\n",
        "npimg = npimage[20,0,:,:]\n",
        "plt.imshow(npimg, cmap='Greys')\n",
        "plt.show()"
      ],
      "execution_count": 10,
      "outputs": [
        {
          "output_type": "display_data",
          "data": {
            "image/png": "[encoded data removed]",
            "text/plain": [
              "<Figure size 432x288 with 1 Axes>"
            ]
          },
          "metadata": {
            "tags": [],
            "needs_background": "light"
          }
        },
        {
          "output_type": "display_data",
          "data": {
            "image/png": "[encoded data removed]",
            "text/plain": [
              "<Figure size 432x288 with 1 Axes>"
            ]
          },
          "metadata": {
            "tags": [],
            "needs_background": "light"
          }
        },
        {
          "output_type": "display_data",
          "data": {
            "image/png": "[encoded data removed]",
            "text/plain": [
              "<Figure size 432x288 with 1 Axes>"
            ]
          },
          "metadata": {
            "tags": [],
            "needs_background": "light"
          }
        }
      ]
    }
  ]
}